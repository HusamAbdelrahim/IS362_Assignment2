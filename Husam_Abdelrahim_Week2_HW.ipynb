{
  "metadata": {
    "kernelspec": {
      "name": "python",
      "display_name": "Python (Pyodide)",
      "language": "python"
    },
    "language_info": {
      "codemirror_mode": {
        "name": "python",
        "version": 3
      },
      "file_extension": ".py",
      "mimetype": "text/x-python",
      "name": "python",
      "nbconvert_exporter": "python",
      "pygments_lexer": "ipython3",
      "version": "3.8"
    }
  },
  "nbformat_minor": 5,
  "nbformat": 4,
  "cells": [
    {
      "id": "af882965-12e1-474b-b72e-711722d4d61c",
      "cell_type": "markdown",
      "source": "# We will be using and understanding the Zip Function and how it operates\n\n## Introduction \nAllowing us to use the 'zip()' function is really a good tool be using in pythin, because what it allows us is that it allows us to combine\nmultiple iterables, those are basicaly like lists, tuples and so on. It is a very complex tool but ver important to use.",
      "metadata": {}
    },
    {
      "id": "dd012d02-f8bf-4a4c-8928-741b0ce0b3b8",
      "cell_type": "markdown",
      "source": "# Basic Usuage of Zip()\n\nWe are going to start with how zip is supposed to work",
      "metadata": {}
    },
    {
      "id": "88c87646-e5dd-485a-b702-0481d77adfd4",
      "cell_type": "markdown",
      "source": "# First step is to define the lists and we are going to zip together, over here we have names and ages!",
      "metadata": {}
    },
    {
      "id": "18c732b0-1b94-41dd-90ca-676ae069a93c",
      "cell_type": "code",
      "source": "names = ['Rachel', 'Karen', 'Andrew']\nages = [24,32,28]",
      "metadata": {
        "trusted": true
      },
      "outputs": [],
      "execution_count": 1
    },
    {
      "id": "242dceb9-725a-4073-87fd-3bccbdda49b3",
      "cell_type": "markdown",
      "source": "# Now we combine the lists using the zip method",
      "metadata": {}
    },
    {
      "id": "9161ab67-e745-4229-b14e-049b97c7e661",
      "cell_type": "markdown",
      "source": "## Creating dictionaries with using the zip() method\nSo what really needs to be known about this method of using zip() is that we are creating dictionaries from\nparallel list. This is crucual when working with data that usually comes in pairs",
      "metadata": {}
    },
    {
      "id": "a18dd534-ac19-48e2-a772-071ea41130c7",
      "cell_type": "code",
      "source": "for name, age in zip(names, ages):\n    print(f\"{name} is {age} years old\")",
      "metadata": {
        "trusted": true
      },
      "outputs": [
        {
          "name": "stdout",
          "output_type": "stream",
          "text": "Rachel is 24 years old\nKaren is 32 years old\nAndrew is 28 years old\n"
        }
      ],
      "execution_count": 2
    },
    {
      "id": "9b35c29c-feba-4e65-b06b-8a7b59a2677c",
      "cell_type": "markdown",
      "source": "# We are going to be looking at the keys and the values but in a separate manner",
      "metadata": {}
    },
    {
      "id": "114572c6-0196-4d7f-82b6-d5751c0e67f3",
      "cell_type": "code",
      "source": "keys = ['name', 'age', 'city',]\nvalues = ['David', 35, 'New York']",
      "metadata": {
        "trusted": true
      },
      "outputs": [],
      "execution_count": 3
    },
    {
      "id": "4b919c22-72e0-4771-a086-cf480fd29e68",
      "cell_type": "markdown",
      "source": "# We are going to create a dictionary using zip",
      "metadata": {}
    },
    {
      "id": "aad34c24-be43-4479-bc45-ee606f3ddbb8",
      "cell_type": "code",
      "source": "person = dict(zip(keys,values))\nprint(\"\\nDictionary created using zip():\")\nprint(person)",
      "metadata": {
        "trusted": true
      },
      "outputs": [
        {
          "name": "stdout",
          "output_type": "stream",
          "text": "\nDictionary created using zip():\n{'name': 'David', 'age': 35, 'city': 'New York'}\n"
        }
      ],
      "execution_count": 4
    },
    {
      "id": "2a2c74b1-0524-431c-b957-393fe62bdfe5",
      "cell_type": "markdown",
      "source": "## different length iterables - when is being occured when zipping with different lenghts, the zip() basically stops at a certain point of the shortest iterable",
      "metadata": {}
    },
    {
      "id": "aa8fa748-8f8b-437e-88f7-14edbe39a3cf",
      "cell_type": "code",
      "source": "list1 = [1,2,3,4,5]\nlist2 = ['a','b','c']",
      "metadata": {
        "trusted": true
      },
      "outputs": [],
      "execution_count": 5
    },
    {
      "id": "d5c1e0b5-6e23-4b06-b53e-f3b0d3b9507d",
      "cell_type": "code",
      "source": "print(\"\\nZipping lists of different lengths:\")\nfor num, letter in zip(list1, list2):\n    print(f\"Number: {num}, Letter: {letter}\")",
      "metadata": {
        "trusted": true
      },
      "outputs": [
        {
          "name": "stdout",
          "output_type": "stream",
          "text": "\nZipping lists of different lengths:\nNumber: 1, Letter: a\nNumber: 2, Letter: b\nNumber: 3, Letter: c\n"
        }
      ],
      "execution_count": 6
    },
    {
      "id": "e8844dc6-bbc1-4fe9-8596-9f820ad206e2",
      "cell_type": "code",
      "source": "student_names = ['Kratos','Alex','Zweihandler']\ntest_scores = [95, 88, 92]\nattendance = [100,95,98]",
      "metadata": {
        "trusted": true
      },
      "outputs": [],
      "execution_count": 7
    },
    {
      "id": "3b1b0911-9cac-4055-a6a9-9bdfe9845c33",
      "cell_type": "markdown",
      "source": "# We are going to create a list ",
      "metadata": {}
    },
    {
      "id": "1adecfe0-5220-44ce-8744-ed9b5f3563d8",
      "cell_type": "code",
      "source": "student_records = []\nfor name, score, attend in zip(student_names, test_scores, attendance):\n    student_records.append({\n        'name': name,\n        'score': score,\n        'attendance': attend,\n        'grade': 'A' if score >= 90 else 'B'\n    })",
      "metadata": {
        "trusted": true
      },
      "outputs": [],
      "execution_count": 8
    },
    {
      "id": "c9d6f7a7-3d6c-4272-8717-f789b02c6875",
      "cell_type": "code",
      "source": "print(\"\\nStudent Records:\")\nfor record in student_records:\n    print(f\"Student: {record['name']}\")\n    print(f\"Score: {record['score']}\")\n    print(f\"Attendance: {record['attendance']}%\")\n    print(f\"Grade: {record['grade']}\\n\")",
      "metadata": {
        "trusted": true
      },
      "outputs": [
        {
          "name": "stdout",
          "output_type": "stream",
          "text": "\nStudent Records:\nStudent: Kratos\nScore: 95\nAttendance: 100%\nGrade: A\n\nStudent: Alex\nScore: 88\nAttendance: 95%\nGrade: B\n\nStudent: Zweihandler\nScore: 92\nAttendance: 98%\nGrade: A\n\n"
        }
      ],
      "execution_count": 9
    },
    {
      "id": "e8056a57-8520-4998-b748-b42440a47e06",
      "cell_type": "code",
      "source": "",
      "metadata": {
        "trusted": true
      },
      "outputs": [],
      "execution_count": 14
    },
    {
      "id": "c8fa2f21-2e4a-411e-9f79-3e81fded92ef",
      "cell_type": "markdown",
      "source": "## Key Takeaways\n\n1. Using the zip() function allows us to combine multiplie iterables into a single iterable tuples\n2. The use of zip()\n   - combining the lists which is demostrated with name and ages\n   - it can be used to create dictionary with the key value-lists\n   - Ability to process multiple data together which can be seen with the students record\n3. zip() what it does is that it stops the legeths with ne it comes the iterable but only the shortest\n4. the zip() method can be used really well when it comes down to show records, just like how I have displayed the combined names, attendance, and the score\n5. This praactice is used when working with data and trying to have a better analysis.",
      "metadata": {}
    }
  ]
}